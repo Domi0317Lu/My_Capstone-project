{
 "cells": [
  {
   "cell_type": "markdown",
   "id": "793cd314",
   "metadata": {
    "tags": []
   },
   "source": [
    "# TRMF--LSTM"
   ]
  },
  {
   "cell_type": "markdown",
   "id": "03149c49",
   "metadata": {
    "tags": []
   },
   "source": [
    "## 数据预处理"
   ]
  },
  {
   "cell_type": "markdown",
   "id": "e4fbc165",
   "metadata": {
    "tags": []
   },
   "source": [
    "### 导入数据，科学计算函数包，以及基本工作"
   ]
  },
  {
   "cell_type": "markdown",
   "id": "9e66ebc9",
   "metadata": {},
   "source": [
    "先导入我们的trmf代码块和科学计算包"
   ]
  },
  {
   "cell_type": "code",
   "execution_count": 2,
   "id": "5ad3e828",
   "metadata": {
    "ExecuteTime": {
     "end_time": "2023-04-26T10:36:22.920283Z",
     "start_time": "2023-04-26T10:36:21.349938Z"
    }
   },
   "outputs": [],
   "source": [
    "import numpy as np\n",
    "import pandas as pd\n",
    "from trmf import trmf\n",
    "from RollingCV import RollingCV\n",
    "import matplotlib.pyplot as plt\n",
    "%matplotlib inline \n",
    "#上面这个是jupyter独有的，意思是设置matplotlib为作图后端\n",
    "plt.rc(\"font\",family='YouYuan')#设置绘图中文“幼圆字体”读取，因为原来读不了中文"
   ]
  },
  {
   "cell_type": "markdown",
   "id": "b33edf1c",
   "metadata": {},
   "source": [
    "然后导入数据，这里我们把日期变为时间索引，顺便查看一下"
   ]
  },
  {
   "cell_type": "markdown",
   "id": "1c7fdf8d",
   "metadata": {},
   "source": [
    "然后对我们感兴趣的变量“收盘价”绘制时序图"
   ]
  },
  {
   "cell_type": "code",
   "execution_count": 3,
   "id": "260aa22f",
   "metadata": {
    "ExecuteTime": {
     "end_time": "2023-04-26T10:36:22.984114Z",
     "start_time": "2023-04-26T10:36:22.922281Z"
    }
   },
   "outputs": [
    {
     "data": {
      "text/html": [
       "<div>\n",
       "<style scoped>\n",
       "    .dataframe tbody tr th:only-of-type {\n",
       "        vertical-align: middle;\n",
       "    }\n",
       "\n",
       "    .dataframe tbody tr th {\n",
       "        vertical-align: top;\n",
       "    }\n",
       "\n",
       "    .dataframe thead th {\n",
       "        text-align: right;\n",
       "    }\n",
       "</style>\n",
       "<table border=\"1\" class=\"dataframe\">\n",
       "  <thead>\n",
       "    <tr style=\"text-align: right;\">\n",
       "      <th></th>\n",
       "      <th>Close</th>\n",
       "      <th>Open</th>\n",
       "      <th>High</th>\n",
       "      <th>Low</th>\n",
       "      <th>Volume</th>\n",
       "    </tr>\n",
       "    <tr>\n",
       "      <th>Date</th>\n",
       "      <th></th>\n",
       "      <th></th>\n",
       "      <th></th>\n",
       "      <th></th>\n",
       "      <th></th>\n",
       "    </tr>\n",
       "  </thead>\n",
       "  <tbody>\n",
       "    <tr>\n",
       "      <th>2022-04-01</th>\n",
       "      <td>361.53</td>\n",
       "      <td>360.38</td>\n",
       "      <td>364.92</td>\n",
       "      <td>355.55</td>\n",
       "      <td>54263100.0</td>\n",
       "    </tr>\n",
       "    <tr>\n",
       "      <th>2022-04-04</th>\n",
       "      <td>381.82</td>\n",
       "      <td>363.13</td>\n",
       "      <td>383.30</td>\n",
       "      <td>357.51</td>\n",
       "      <td>82035900.0</td>\n",
       "    </tr>\n",
       "    <tr>\n",
       "      <th>2022-04-05</th>\n",
       "      <td>363.75</td>\n",
       "      <td>378.77</td>\n",
       "      <td>384.29</td>\n",
       "      <td>362.43</td>\n",
       "      <td>80075100.0</td>\n",
       "    </tr>\n",
       "    <tr>\n",
       "      <th>2022-04-06</th>\n",
       "      <td>348.59</td>\n",
       "      <td>357.82</td>\n",
       "      <td>359.67</td>\n",
       "      <td>342.57</td>\n",
       "      <td>89348400.0</td>\n",
       "    </tr>\n",
       "    <tr>\n",
       "      <th>2022-04-07</th>\n",
       "      <td>352.42</td>\n",
       "      <td>350.80</td>\n",
       "      <td>358.86</td>\n",
       "      <td>340.51</td>\n",
       "      <td>79447200.0</td>\n",
       "    </tr>\n",
       "    <tr>\n",
       "      <th>...</th>\n",
       "      <td>...</td>\n",
       "      <td>...</td>\n",
       "      <td>...</td>\n",
       "      <td>...</td>\n",
       "      <td>...</td>\n",
       "    </tr>\n",
       "    <tr>\n",
       "      <th>2023-03-27</th>\n",
       "      <td>191.81</td>\n",
       "      <td>194.42</td>\n",
       "      <td>197.39</td>\n",
       "      <td>189.94</td>\n",
       "      <td>120851600.0</td>\n",
       "    </tr>\n",
       "    <tr>\n",
       "      <th>2023-03-28</th>\n",
       "      <td>189.19</td>\n",
       "      <td>192.00</td>\n",
       "      <td>192.35</td>\n",
       "      <td>185.43</td>\n",
       "      <td>98654600.0</td>\n",
       "    </tr>\n",
       "    <tr>\n",
       "      <th>2023-03-29</th>\n",
       "      <td>193.88</td>\n",
       "      <td>193.13</td>\n",
       "      <td>195.29</td>\n",
       "      <td>189.44</td>\n",
       "      <td>123660000.0</td>\n",
       "    </tr>\n",
       "    <tr>\n",
       "      <th>2023-03-30</th>\n",
       "      <td>195.28</td>\n",
       "      <td>195.58</td>\n",
       "      <td>197.33</td>\n",
       "      <td>194.42</td>\n",
       "      <td>110252200.0</td>\n",
       "    </tr>\n",
       "    <tr>\n",
       "      <th>2023-03-31</th>\n",
       "      <td>207.46</td>\n",
       "      <td>197.53</td>\n",
       "      <td>207.79</td>\n",
       "      <td>197.20</td>\n",
       "      <td>169638500.0</td>\n",
       "    </tr>\n",
       "  </tbody>\n",
       "</table>\n",
       "<p>251 rows × 5 columns</p>\n",
       "</div>"
      ],
      "text/plain": [
       "             Close    Open    High     Low       Volume\n",
       "Date                                                   \n",
       "2022-04-01  361.53  360.38  364.92  355.55   54263100.0\n",
       "2022-04-04  381.82  363.13  383.30  357.51   82035900.0\n",
       "2022-04-05  363.75  378.77  384.29  362.43   80075100.0\n",
       "2022-04-06  348.59  357.82  359.67  342.57   89348400.0\n",
       "2022-04-07  352.42  350.80  358.86  340.51   79447200.0\n",
       "...            ...     ...     ...     ...          ...\n",
       "2023-03-27  191.81  194.42  197.39  189.94  120851600.0\n",
       "2023-03-28  189.19  192.00  192.35  185.43   98654600.0\n",
       "2023-03-29  193.88  193.13  195.29  189.44  123660000.0\n",
       "2023-03-30  195.28  195.58  197.33  194.42  110252200.0\n",
       "2023-03-31  207.46  197.53  207.79  197.20  169638500.0\n",
       "\n",
       "[251 rows x 5 columns]"
      ]
     },
     "execution_count": 3,
     "metadata": {},
     "output_type": "execute_result"
    }
   ],
   "source": [
    "df = pd.read_csv('TSLA.csv',parse_dates = ['Date'] , index_col = 'Date')\n",
    "df"
   ]
  },
  {
   "cell_type": "code",
   "execution_count": 4,
   "id": "f78a8c3f",
   "metadata": {},
   "outputs": [
    {
     "name": "stdout",
     "output_type": "stream",
     "text": [
      "<class 'pandas.core.frame.DataFrame'>\n",
      "DatetimeIndex: 251 entries, 2022-04-01 to 2023-03-31\n",
      "Data columns (total 5 columns):\n",
      " #   Column  Non-Null Count  Dtype  \n",
      "---  ------  --------------  -----  \n",
      " 0   Close   251 non-null    float64\n",
      " 1   Open    251 non-null    float64\n",
      " 2   High    251 non-null    float64\n",
      " 3   Low     251 non-null    float64\n",
      " 4   Volume  251 non-null    float64\n",
      "dtypes: float64(5)\n",
      "memory usage: 11.8 KB\n"
     ]
    }
   ],
   "source": [
    "df.describe()\n",
    "df.info()"
   ]
  },
  {
   "cell_type": "code",
   "execution_count": 5,
   "id": "369ed78e",
   "metadata": {
    "ExecuteTime": {
     "end_time": "2023-04-26T10:36:23.407199Z",
     "start_time": "2023-04-26T10:36:23.017667Z"
    }
   },
   "outputs": [
    {
     "data": {
      "image/png": "[encoded data removed]",
      "text/plain": [
       "<Figure size 640x480 with 1 Axes>"
      ]
     },
     "metadata": {},
     "output_type": "display_data"
    }
   ],
   "source": [
    "plt.rc(\"font\",family='YouYuan')#设置中文“幼圆字体”读取，因为原来读不了中文\n",
    "df.plot(y='Close',color='r')\n",
    "plt.title('收盘价走势')  #图形名称\n",
    "plt.xlabel('时间')        #X轴标签\n",
    "plt.ylabel('收盘价')      #Y轴标签\n",
    "plt.show()                #绘图"
   ]
  },
  {
   "cell_type": "markdown",
   "id": "5bcdd54f-3630-43d4-8fe4-923ad63671c2",
   "metadata": {},
   "source": [
    "这里我要提取“close”列，并将其作为一个新的数据框，最后对比用"
   ]
  },
  {
   "cell_type": "code",
   "execution_count": 6,
   "id": "ac37a650-637c-4d34-ac4e-bdefbab6d2cd",
   "metadata": {},
   "outputs": [],
   "source": [
    "df_final =  pd.DataFrame(df, columns=['Close'])"
   ]
  },
  {
   "cell_type": "code",
   "execution_count": 7,
   "id": "6e4fe57a-b62a-4572-a8df-c1db74523482",
   "metadata": {},
   "outputs": [],
   "source": [
    "df_final = df_final.rename(columns={'Close': 'Y'})"
   ]
  },
  {
   "cell_type": "code",
   "execution_count": 8,
   "id": "1bcc687d-7f8d-4669-859a-649477b5edb8",
   "metadata": {},
   "outputs": [
    {
     "data": {
      "text/html": [
       "<div>\n",
       "<style scoped>\n",
       "    .dataframe tbody tr th:only-of-type {\n",
       "        vertical-align: middle;\n",
       "    }\n",
       "\n",
       "    .dataframe tbody tr th {\n",
       "        vertical-align: top;\n",
       "    }\n",
       "\n",
       "    .dataframe thead th {\n",
       "        text-align: right;\n",
       "    }\n",
       "</style>\n",
       "<table border=\"1\" class=\"dataframe\">\n",
       "  <thead>\n",
       "    <tr style=\"text-align: right;\">\n",
       "      <th></th>\n",
       "      <th>Y</th>\n",
       "    </tr>\n",
       "    <tr>\n",
       "      <th>Date</th>\n",
       "      <th></th>\n",
       "    </tr>\n",
       "  </thead>\n",
       "  <tbody>\n",
       "    <tr>\n",
       "      <th>2022-04-01</th>\n",
       "      <td>361.53</td>\n",
       "    </tr>\n",
       "    <tr>\n",
       "      <th>2022-04-04</th>\n",
       "      <td>381.82</td>\n",
       "    </tr>\n",
       "    <tr>\n",
       "      <th>2022-04-05</th>\n",
       "      <td>363.75</td>\n",
       "    </tr>\n",
       "    <tr>\n",
       "      <th>2022-04-06</th>\n",
       "      <td>348.59</td>\n",
       "    </tr>\n",
       "    <tr>\n",
       "      <th>2022-04-07</th>\n",
       "      <td>352.42</td>\n",
       "    </tr>\n",
       "    <tr>\n",
       "      <th>...</th>\n",
       "      <td>...</td>\n",
       "    </tr>\n",
       "    <tr>\n",
       "      <th>2023-03-27</th>\n",
       "      <td>191.81</td>\n",
       "    </tr>\n",
       "    <tr>\n",
       "      <th>2023-03-28</th>\n",
       "      <td>189.19</td>\n",
       "    </tr>\n",
       "    <tr>\n",
       "      <th>2023-03-29</th>\n",
       "      <td>193.88</td>\n",
       "    </tr>\n",
       "    <tr>\n",
       "      <th>2023-03-30</th>\n",
       "      <td>195.28</td>\n",
       "    </tr>\n",
       "    <tr>\n",
       "      <th>2023-03-31</th>\n",
       "      <td>207.46</td>\n",
       "    </tr>\n",
       "  </tbody>\n",
       "</table>\n",
       "<p>251 rows × 1 columns</p>\n",
       "</div>"
      ],
      "text/plain": [
       "                 Y\n",
       "Date              \n",
       "2022-04-01  361.53\n",
       "2022-04-04  381.82\n",
       "2022-04-05  363.75\n",
       "2022-04-06  348.59\n",
       "2022-04-07  352.42\n",
       "...            ...\n",
       "2023-03-27  191.81\n",
       "2023-03-28  189.19\n",
       "2023-03-29  193.88\n",
       "2023-03-30  195.28\n",
       "2023-03-31  207.46\n",
       "\n",
       "[251 rows x 1 columns]"
      ]
     },
     "execution_count": 8,
     "metadata": {},
     "output_type": "execute_result"
    }
   ],
   "source": [
    "df_final"
   ]
  },
  {
   "cell_type": "markdown",
   "id": "2b93f543-d8fd-4d81-bc34-e06110dd720d",
   "metadata": {
    "tags": []
   },
   "source": [
    "### 特征工程——数据归一化"
   ]
  },
  {
   "cell_type": "markdown",
   "id": "ea099cb6-2d9b-40ca-a86f-8f37fe66de4e",
   "metadata": {},
   "source": [
    "因为量纲不一样，所以要先消除量纲影响。这里选择最小最大标准化，即y = (x - min) / (max - min)"
   ]
  },
  {
   "cell_type": "code",
   "execution_count": 9,
   "id": "6c3c85f8",
   "metadata": {
    "ExecuteTime": {
     "end_time": "2023-04-26T10:36:25.226260Z",
     "start_time": "2023-04-26T10:36:23.425154Z"
    }
   },
   "outputs": [],
   "source": [
    "# 导入模块\n",
    "from sklearn.preprocessing import MinMaxScaler\n",
    "# 创建归一化对象\n",
    "scaler = MinMaxScaler()"
   ]
  },
  {
   "cell_type": "code",
   "execution_count": 10,
   "id": "03837605",
   "metadata": {
    "ExecuteTime": {
     "end_time": "2023-04-26T10:36:25.241220Z",
     "start_time": "2023-04-26T10:36:25.229252Z"
    }
   },
   "outputs": [],
   "source": [
    "df_normalized = pd.DataFrame(scaler.fit_transform(df), columns=df.columns , index=df.index)"
   ]
  },
  {
   "cell_type": "code",
   "execution_count": 11,
   "id": "baa2b78a",
   "metadata": {
    "ExecuteTime": {
     "end_time": "2023-04-26T10:36:25.286143Z",
     "start_time": "2023-04-26T10:36:25.245211Z"
    }
   },
   "outputs": [
    {
     "data": {
      "text/html": [
       "<div>\n",
       "<style scoped>\n",
       "    .dataframe tbody tr th:only-of-type {\n",
       "        vertical-align: middle;\n",
       "    }\n",
       "\n",
       "    .dataframe tbody tr th {\n",
       "        vertical-align: top;\n",
       "    }\n",
       "\n",
       "    .dataframe thead th {\n",
       "        text-align: right;\n",
       "    }\n",
       "</style>\n",
       "<table border=\"1\" class=\"dataframe\">\n",
       "  <thead>\n",
       "    <tr style=\"text-align: right;\">\n",
       "      <th></th>\n",
       "      <th>Close</th>\n",
       "      <th>Open</th>\n",
       "      <th>High</th>\n",
       "      <th>Low</th>\n",
       "      <th>Volume</th>\n",
       "    </tr>\n",
       "    <tr>\n",
       "      <th>Date</th>\n",
       "      <th></th>\n",
       "      <th></th>\n",
       "      <th></th>\n",
       "      <th></th>\n",
       "      <th></th>\n",
       "    </tr>\n",
       "  </thead>\n",
       "  <tbody>\n",
       "    <tr>\n",
       "      <th>2022-04-01</th>\n",
       "      <td>0.925873</td>\n",
       "      <td>0.933314</td>\n",
       "      <td>0.928928</td>\n",
       "      <td>0.973601</td>\n",
       "      <td>0.046835</td>\n",
       "    </tr>\n",
       "    <tr>\n",
       "      <th>2022-04-04</th>\n",
       "      <td>1.000000</td>\n",
       "      <td>0.943286</td>\n",
       "      <td>0.996368</td>\n",
       "      <td>0.981122</td>\n",
       "      <td>0.151746</td>\n",
       "    </tr>\n",
       "    <tr>\n",
       "      <th>2022-04-05</th>\n",
       "      <td>0.933984</td>\n",
       "      <td>1.000000</td>\n",
       "      <td>1.000000</td>\n",
       "      <td>1.000000</td>\n",
       "      <td>0.144339</td>\n",
       "    </tr>\n",
       "    <tr>\n",
       "      <th>2022-04-06</th>\n",
       "      <td>0.878599</td>\n",
       "      <td>0.924031</td>\n",
       "      <td>0.909665</td>\n",
       "      <td>0.923797</td>\n",
       "      <td>0.179369</td>\n",
       "    </tr>\n",
       "    <tr>\n",
       "      <th>2022-04-07</th>\n",
       "      <td>0.892591</td>\n",
       "      <td>0.898575</td>\n",
       "      <td>0.906693</td>\n",
       "      <td>0.915893</td>\n",
       "      <td>0.141968</td>\n",
       "    </tr>\n",
       "    <tr>\n",
       "      <th>...</th>\n",
       "      <td>...</td>\n",
       "      <td>...</td>\n",
       "      <td>...</td>\n",
       "      <td>...</td>\n",
       "      <td>...</td>\n",
       "    </tr>\n",
       "    <tr>\n",
       "      <th>2023-03-27</th>\n",
       "      <td>0.305823</td>\n",
       "      <td>0.331508</td>\n",
       "      <td>0.314229</td>\n",
       "      <td>0.338155</td>\n",
       "      <td>0.298372</td>\n",
       "    </tr>\n",
       "    <tr>\n",
       "      <th>2023-03-28</th>\n",
       "      <td>0.296252</td>\n",
       "      <td>0.322733</td>\n",
       "      <td>0.295736</td>\n",
       "      <td>0.320850</td>\n",
       "      <td>0.214523</td>\n",
       "    </tr>\n",
       "    <tr>\n",
       "      <th>2023-03-29</th>\n",
       "      <td>0.313386</td>\n",
       "      <td>0.326830</td>\n",
       "      <td>0.306524</td>\n",
       "      <td>0.336237</td>\n",
       "      <td>0.308981</td>\n",
       "    </tr>\n",
       "    <tr>\n",
       "      <th>2023-03-30</th>\n",
       "      <td>0.318501</td>\n",
       "      <td>0.335715</td>\n",
       "      <td>0.314009</td>\n",
       "      <td>0.355345</td>\n",
       "      <td>0.258333</td>\n",
       "    </tr>\n",
       "    <tr>\n",
       "      <th>2023-03-31</th>\n",
       "      <td>0.362999</td>\n",
       "      <td>0.342786</td>\n",
       "      <td>0.352389</td>\n",
       "      <td>0.366012</td>\n",
       "      <td>0.482665</td>\n",
       "    </tr>\n",
       "  </tbody>\n",
       "</table>\n",
       "<p>251 rows × 5 columns</p>\n",
       "</div>"
      ],
      "text/plain": [
       "               Close      Open      High       Low    Volume\n",
       "Date                                                        \n",
       "2022-04-01  0.925873  0.933314  0.928928  0.973601  0.046835\n",
       "2022-04-04  1.000000  0.943286  0.996368  0.981122  0.151746\n",
       "2022-04-05  0.933984  1.000000  1.000000  1.000000  0.144339\n",
       "2022-04-06  0.878599  0.924031  0.909665  0.923797  0.179369\n",
       "2022-04-07  0.892591  0.898575  0.906693  0.915893  0.141968\n",
       "...              ...       ...       ...       ...       ...\n",
       "2023-03-27  0.305823  0.331508  0.314229  0.338155  0.298372\n",
       "2023-03-28  0.296252  0.322733  0.295736  0.320850  0.214523\n",
       "2023-03-29  0.313386  0.326830  0.306524  0.336237  0.308981\n",
       "2023-03-30  0.318501  0.335715  0.314009  0.355345  0.258333\n",
       "2023-03-31  0.362999  0.342786  0.352389  0.366012  0.482665\n",
       "\n",
       "[251 rows x 5 columns]"
      ]
     },
     "execution_count": 11,
     "metadata": {},
     "output_type": "execute_result"
    }
   ],
   "source": [
    "df_normalized"
   ]
  },
  {
   "cell_type": "markdown",
   "id": "5c0c7e50-ac78-4511-a281-cfb9446f79bd",
   "metadata": {
    "tags": []
   },
   "source": [
    "### 特征工程——划分数据集为训练集和测试集"
   ]
  },
  {
   "cell_type": "markdown",
   "id": "2e885bc0-03ae-4003-819d-a75eb2482426",
   "metadata": {},
   "source": [
    "时间序列数据是有序的，也就是说，每个观测值都与之前的观测值有关。因此，不能像普通的交叉验证方法那样随机地将数据分成训练集和测试集，否则会破坏时间序列的结构和依赖性。TimeSeriesSplit是一种专门针对时间序列数据的交叉验证方法，它可以保证每次分割时，测试集的索引都比训练集的索引高，也就是说，测试集总是在训练集之后。这样可以模拟真实的时间序列预测场景，即用过去的数据来预测未来的数据。"
   ]
  },
  {
   "cell_type": "code",
   "execution_count": 12,
   "id": "b01e2e66-438a-4290-ad6a-c13b63a8cde8",
   "metadata": {},
   "outputs": [
    {
     "data": {
      "image/png": "[encoded data removed]",
      "text/plain": [
       "<Figure size 640x480 with 3 Axes>"
      ]
     },
     "metadata": {},
     "output_type": "display_data"
    }
   ],
   "source": [
    "# 导入sklearn库中的TimeSeriesSplit类\n",
    "from sklearn.model_selection import TimeSeriesSplit\n",
    "# 导入matplotlib库中的pyplot模块，并起别名plt\n",
    "import matplotlib.pyplot as plt\n",
    "\n",
    "\n",
    "# 创建一个空列表，用来存储每次划分后的数据\n",
    "data_splits = []\n",
    "\n",
    "\n",
    "# 创建一个TimeSeriesSplit对象，指定n_splits参数为3，表示3次交叉验证\n",
    "time_series_splitter = TimeSeriesSplit(n_splits=3)\n",
    "\n",
    "# 创建一个变量i，用来记录当前是第几次划分\n",
    "i = 1\n",
    "\n",
    "# 使用time_series_splitter.split方法对数据框normalized_df进行分割，并返回一个迭代器\n",
    "for train_index, test_index in time_series_splitter.split(df_normalized):\n",
    "    # 根据训练索引和测试索引提取出训练集和测试集中的所有特征列，并赋值给train_features和test_features变量\n",
    "    train_features = df_normalized.loc[df_normalized.index[train_index]]\n",
    "    test_features = df_normalized.loc[df_normalized.index[test_index]]\n",
    "    \n",
    "    # 根据训练索引和测试索引提取出训练集和测试集中的目标列，并赋值给train_target和test_target变量\n",
    "    train_target = df_normalized['Close'].loc[df_normalized.index[train_index]]\n",
    "    test_target = df_normalized['Close'].loc[df_normalized.index[test_index]]\n",
    "    \n",
    "    \n",
    "    # 设置图形的字体大小为8\n",
    "    plt.rcParams['font.size'] = 8\n",
    "    \n",
    "    # 使用plt.subplot方法创建一个子图，指定行数为3，列数为1，当前位置为i\n",
    "    plt.subplot(3, 1, i)\n",
    "    \n",
    "    # 使用plt.plot方法绘制训练集和测试集的目标值，分别用蓝色和橙色表示\n",
    "    plt.plot(train_target, color='blue')\n",
    "    plt.plot(test_target, color='orange')\n",
    "    \n",
    "    # 使用plt.plot方法绘制训练集和测试集的目标值，分别用蓝色和橙色表示，并添加图例注记\n",
    "    plt.plot(train_target, color='blue', label=f'第{i}次划分 - Train集')\n",
    "    plt.plot(test_target, color='orange', label=f'第{i}次划分 - Test集')\n",
    "    \n",
    "    # 使用plt.legend方法显示图例注记，并指定位置为最佳位置\n",
    "    plt.legend(loc='best')\n",
    "    \n",
    "    # 将i的值加1，为下一次循环做准备\n",
    "    i += 1\n",
    "    \n",
    "# 使用plt.show方法显示图形\n",
    "plt.show()"
   ]
  },
  {
   "cell_type": "markdown",
   "id": "da0f6531-4fcc-4ee4-be54-73994b86aa00",
   "metadata": {},
   "source": [
    "for train_index, test_index in time_series_splitter.split(df_normalized):\n",
    "    #打印出每次循环得到的训练索引和测试索引\n",
    "    print(\"TRAIN:\", train_index, \"TEST:\", test_index)\n",
    "    # 打印出每次循环得到的训练索引和测试索引的值\n",
    "    print(\"TRAIN:\", df_normalized.index.values[train_index], \"TEST:\", df_normalized.index.values[test_index])"
   ]
  },
  {
   "cell_type": "markdown",
   "id": "c6a6a225-d9bf-44f8-8494-7952a1e7a2aa",
   "metadata": {},
   "source": [
    "我不想一直重复划分，所以基于刚才的划分结果直接训练，将划分后的数据保存到一个列表或字典中，然后在训练时直接从列表或字典中取出相应的数据。也就是说在每次循环中将训练集和测试集的特征和目标值添加到一个字典中，然后将字典添加到一个列表中"
   ]
  },
  {
   "cell_type": "code",
   "execution_count": 13,
   "id": "012cced6-81f7-4717-9c36-8a8b5b953da1",
   "metadata": {},
   "outputs": [],
   "source": [
    "# 创建一个空列表，用来存储每次划分后的数据\n",
    "data_splits = []\n",
    "\n",
    "# 使用time_series_splitter.split方法对数据框normalized_df进行分割，并返回一个迭代器\n",
    "for train_index, test_index in time_series_splitter.split(df_normalized):\n",
    "    # 根据训练索引和测试索引提取出训练集和测试集中的所有特征列，并赋值给train_features和test_features变量\n",
    "    train_features = df_normalized.loc[df_normalized.index[train_index]]\n",
    "    test_features = df_normalized.loc[df_normalized.index[test_index]]\n",
    "    \n",
    "    # 根据训练索引和测试索引提取出训练集和测试集中的目标列，并赋值给train_target和test_target变量\n",
    "    train_target = df_normalized['Close'].loc[df_normalized.index[train_index]]\n",
    "    test_target = df_normalized['Close'].loc[df_normalized.index[test_index]]\n",
    "    \n",
    "    # 创建一个字典，用来存储当前划分后的数据\n",
    "    data_split = {\n",
    "        'train_features': train_features,\n",
    "        'test_features': test_features,\n",
    "        'train_target': train_target,\n",
    "        'test_target': test_target\n",
    "    }\n",
    "    \n",
    "    # 将字典添加到列表中\n",
    "    data_splits.append(data_split)"
   ]
  },
  {
   "cell_type": "markdown",
   "id": "38e7cfb6-1e97-4e86-ab51-571ccd4b653e",
   "metadata": {},
   "source": [
    "在训练时，你可以直接从列表中取出相应的数据"
   ]
  },
  {
   "cell_type": "markdown",
   "id": "4c5f0725-5e16-4c1c-9b9e-1c53d0fc0749",
   "metadata": {
    "tags": []
   },
   "source": [
    "## 针对训练集进行TRMF处理"
   ]
  },
  {
   "cell_type": "markdown",
   "id": "4f030a29-726b-4e62-bcf1-b93573d2cec5",
   "metadata": {},
   "source": [
    "#### 定义TRMF函数"
   ]
  },
  {
   "cell_type": "code",
   "execution_count": 14,
   "id": "d9047a7f",
   "metadata": {},
   "outputs": [],
   "source": [
    "# 导入numpy库，用于矩阵运算\n",
    "import numpy as np\n",
    "# 导入numpy.linalg库中的inv函数，用于求矩阵的逆\n",
    "from numpy.linalg import inv as inv\n",
    "\n",
    "# 定义TRMF函数，输入参数为dense_mat（原始矩阵），sparse_mat（稀疏矩阵），init_para（初始化参数），init_hyper（初始化超参数），time_lags（时间滞后项），maxiter（最大迭代次数）\n",
    "def TRMF(dense_mat, sparse_mat, init_para, init_hyper, time_lags, maxiter):\n",
    "    \"\"\"Temporal Regularized Matrix Factorization, TRMF.\"\"\"\n",
    "    # 初始化空间矩阵W，时间矩阵X，自回归系数矩阵theta\n",
    "    W = init_para[\"W\"]\n",
    "    X = init_para[\"X\"]\n",
    "    theta = init_para[\"theta\"]\n",
    "    # 设置超参数lambda_w（空间矩阵的正则化系数），lambda_x（时间矩阵的正则化系数），lambda_theta（自回归系数的正则化系数），eta（时间平滑系数）\n",
    "    lambda_w = init_hyper[\"lambda_w\"]\n",
    "    lambda_x = init_hyper[\"lambda_x\"]\n",
    "    lambda_theta = init_hyper[\"lambda_theta\"]\n",
    "    eta = init_hyper[\"eta\"]\n",
    "    # 获取稀疏矩阵的维度\n",
    "    dim1, dim2 = sparse_mat.shape\n",
    "    # 获取稀疏矩阵中非零元素的位置\n",
    "    pos_train = np.where(sparse_mat != 0)\n",
    "    # 获取原始矩阵中非零且稀疏矩阵中为零的元素的位置，用于测试集\n",
    "    pos_test = np.where((dense_mat != 0) & (sparse_mat == 0))\n",
    "    # 复制稀疏矩阵，并将非零元素置为1，用于计算二值权重\n",
    "    binary_mat = sparse_mat.copy()\n",
    "    binary_mat[pos_train] = 1\n",
    "    # 获取自回归系数矩阵的维度\n",
    "    d, rank = theta.shape\n",
    "    # 迭代更新参数\n",
    "    for it in range(maxiter):\n",
    "        # 更新空间矩阵W\n",
    "        for i in range(dim1):\n",
    "            # 获取第i行稀疏矩阵中非零元素的位置\n",
    "            pos0 = np.where(sparse_mat[i, :] != 0)\n",
    "            # 获取对应位置的时间矩阵X的转置\n",
    "            Xt = X[pos0[0], :]\n",
    "            # 计算第i行稀疏矩阵与时间矩阵X转置的乘积\n",
    "            vec0 = Xt.T @ sparse_mat[i, pos0[0]]\n",
    "            # 计算时间矩阵X转置与自身乘积加上空间正则化项的逆\n",
    "            mat0 = inv(Xt.T @ Xt + lambda_w * np.eye(rank))\n",
    "            # 更新第i行空间矩阵W为上述两个向量的乘积\n",
    "            W[i, :] = mat0 @ vec0\n",
    "        \n",
    "        # 更新时间矩阵X\n",
    "        for t in range(dim2):\n",
    "            # 获取第t列稀疏矩阵中非零元素的位置\n",
    "            pos0 = np.where(sparse_mat[:, t] != 0)\n",
    "            # 获取对应位置的空间矩阵W\n",
    "            Wt = W[pos0[0], :]\n",
    "            # 初始化Mt和Nt为零向量，用于计算自回归项和交叉项\n",
    "            Mt = np.zeros((rank, rank))\n",
    "            Nt = np.zeros(rank)\n",
    "            # 如果t小于最大滞后项，则Pt为零向量，Qt为零向量，否则Pt为单位向量，Qt为自回归系#数矩阵theta与时间矩阵X滞后项的乘积\n",
    "            if t < np.max(time_lags):\n",
    "                Pt = np.zeros((rank, rank))\n",
    "                Qt = np.zeros(rank)\n",
    "            else:\n",
    "                Pt = np.eye(rank)\n",
    "                Qt = np.einsum('ij, ij -> j', theta, X[t - time_lags, :])\n",
    "            # 如果t小于最小滞后项的倒数，则计算Mt和Nt时需要考虑边界条件，否则不需要\n",
    "            if t < dim2 - np.min(time_lags):\n",
    "                if t >= np.max(time_lags) and t < dim2 - np.max(time_lags):\n",
    "                    # 如果t在最大滞后项和最小滞后项的倒数之间，则计算Mt和Nt时需要考虑所有的滞后项\n",
    "                    index = list(range(0, d))\n",
    "                else:\n",
    "                    # 如果t在最大滞后项之前或最小滞后项的倒数之后，则计算Mt和Nt时只需要考虑部分滞后项\n",
    "                    index = list(np.where((t + time_lags >= np.max(time_lags)) & (t + time_lags < dim2))[0])\n",
    "                for k in index:\n",
    "                    # 获取第k行自回归系数矩阵theta\n",
    "                    Ak = theta[k, :]\n",
    "                    # 计算Mt为所有滞后项的平方和\n",
    "                    Mt += np.diag(Ak ** 2)\n",
    "                    # 复制自回归系数矩阵theta，并将第k行置为零\n",
    "                    theta0 = theta.copy()\n",
    "                    theta0[k, :] = 0\n",
    "                    # 计算Nt为所有滞后项与交叉项的乘积和\n",
    "                    Nt += np.multiply(Ak, X[t + time_lags[k], :] - np.einsum('ij, ij -> j', theta0, X[t + time_lags[k] - time_lags, :]))\n",
    "            # 计算第t列稀疏矩阵与空间矩阵W的乘积，加上时间正则化项，自回归项和交叉项\n",
    "            vec0 = Wt.T @ sparse_mat[pos0[0], t] + lambda_x * Nt + lambda_x * Qt\n",
    "            # 计算空间矩阵W与自身乘积，加上时间正则化项，自回归项和时间平滑项的逆\n",
    "            mat0 = inv(Wt.T @ Wt + lambda_x * Mt + lambda_x * Pt + lambda_x * eta * np.eye(rank))\n",
    "            # 更新第t列时间矩阵X为上述两个向量的乘积\n",
    "            X[t, :] = mat0 @ vec0\n",
    "        \n",
    "        # 更新自回归系数矩阵theta\n",
    "        for k in range(d):\n",
    "            # 复制自回归系数矩阵theta，并将第k行置为零\n",
    "            theta0 = theta.copy()\n",
    "            theta0[k, :] = 0\n",
    "            # 初始化mat0为零矩阵，用于计算自回归误差\n",
    "            mat0 = np.zeros((dim2 - np.max(time_lags), rank))\n",
    "            for L in range(d):\n",
    "                # 计算mat0为所有滞后项与自回归系数的乘积和\n",
    "                mat0 += X[np.max(time_lags) - time_lags[L] : dim2 - time_lags[L] , :] @ np.diag(theta0[L, :])\n",
    "            # 计算VarPi为时间矩阵X减去mat0，即自回归误差\n",
    "            VarPi = X[np.max(time_lags) : dim2, :] - mat0\n",
    "            # 初始化var1和var2为零向量，用于计算自回归系数的更新公式中的分子和分母\n",
    "            var1 = np.zeros((rank, rank ))\n",
    "            var2 = np.zeros(rank)\n",
    "            for t in range(np.max(time_lags), dim2):\n",
    "                # 获取第t列时间矩阵X的第k个滞后项\n",
    "                B = X[t - time_lags[k], :]\n",
    "                # 计算var1为所有滞后项的平方和\n",
    "                var1 += np.diag(np.multiply(B, B))\n",
    "                # 计算var2为所有滞后项与自回归误差的乘积和\n",
    "                var2 += np.diag(B) @ VarPi[t - np.max(time_lags), :]\n",
    "            # 更新第k行自回归系数矩阵theta为var1加上自回归正则化项的逆乘以var2\n",
    "            theta[k, :] = inv(var1 + lambda_theta * np.eye(rank) / lambda_x) @ var2\n",
    "        \n",
    "        # 计算空间矩阵W与时间矩阵X的乘积，得到填补后的矩阵mat_hat\n",
    "        mat_hat = W @ X.T\n",
    "        # 计算测试集上的平均绝对百分比误差（MAPE）\n",
    "        mape = np.sum(np.abs(dense_mat[pos_test] - mat_hat[pos_test]) / dense_mat[pos_test]) / dense_mat[pos_test].shape[0]\n",
    "        # 计算测试集上的均方根误差（RMSE）\n",
    "        rmse = np.sqrt(np.sum((dense_mat[pos_test] - mat_hat[pos_test]) ** 2)/dense_mat[pos_test].shape[0])\n",
    "        # 每隔100次迭代，打印一次误差指标\n",
    "        if (it + 1) % 100 == 0:\n",
    "            print('Iter: {}'.format(it + 1))\n",
    "            print('Imputation MAPE: {:.6}'.format(mape))\n",
    "            print('Imputation RMSE: {:.6}'.format(rmse))\n",
    "            print()\n",
    "    # 返回填补后的矩阵mat_hat\n",
    "    return mat_hat"
   ]
  },
  {
   "cell_type": "markdown",
   "id": "cca2c1a7-fdaa-4939-80c5-41d006ca5755",
   "metadata": {},
   "source": [
    "#### 定义ar4cast函数: 这个函数是用来根据 theta 和 X 来预测未来几步的 X 的值，它就是用 theta 和 X 中的滞后期的数据来计算每一步的预测值。"
   ]
  },
  {
   "cell_type": "code",
   "execution_count": 32,
   "id": "e7918b86-12de-490b-ab55-93f868e7c923",
   "metadata": {},
   "outputs": [],
   "source": [
    "def ar4cast(theta, X, time_lags, multi_step):\n",
    "    \"\"\"这个函数根据 theta 和 X 中的滞后期的数据来预测未来几步的 X 的值。\n",
    "    \n",
    "    参数\n",
    "    ----------\n",
    "    theta: numpy 数组\n",
    "        自回归系数矩阵，形状为 (d, rank)，其中 d 是滞后期的个数，rank 是隐变量的维度。\n",
    "    X: numpy 数组\n",
    "        时间矩阵，形状为 (dim2, rank)，其中 dim2 是时间点的个数，rank 是隐变量的维度。\n",
    "    time_lags: numpy 数组\n",
    "        滞后期向量，形状为 (d,)，其中 d 是滞后期的个数。\n",
    "    multi_step: 整数\n",
    "        预测步数。\n",
    "\n",
    "    返回\n",
    "    -------\n",
    "    X_new: numpy 数组\n",
    "        新的时间矩阵，形状为 (dim2 + multi_step, rank)，其中 dim2 是时间点的个数，rank 是隐变量的维度。它包含了原始的 X 和预测的值。\n",
    "    \"\"\"\n",
    "    \n",
    "    dim2, rank = X.shape # 获取 X 的形状\n",
    "    d = time_lags.shape[0] # 获取滞后期的个数\n",
    "    X_new = np.append(X, np.zeros((multi_step, rank)), axis = 0) # 初始化一个新的矩阵，用零来填充预测值\n",
    "    for t in range(multi_step): # 循环预测步数\n",
    "        X_new[dim2 + t, :] = np.einsum('kr, kr -> r', theta, X_new[dim2 + t - time_lags, :]) # 根据 theta 和 X 中的滞后期的数据来计算每一步的预测值\n",
    "    return X_new # 返回新的矩阵\n"
   ]
  },
  {
   "cell_type": "markdown",
   "id": "a6cb5eda-b58d-4624-bfd7-90cbb06f98a5",
   "metadata": {},
   "source": [
    "#### 定义compute_mape: 这个函数是用来计算平均绝对百分比误差（MAPE）的，它是一种评估预测准确性的指标，它是真实值和预测值之差的绝对值与真实值之比的平均值。\n",
    "#### compute_rmse: 这个函数是用来计算均方根误差（RMSE）的，它也是一种评估预测准确性的指标，它是真实值和预测值之差的平方和的平方根。"
   ]
  },
  {
   "cell_type": "code",
   "execution_count": 31,
   "id": "a6f34836-8d27-4738-9a46-5acb838cc122",
   "metadata": {},
   "outputs": [],
   "source": [
    "def compute_mape(var, var_hat):\n",
    "    \"\"\"这个函数计算真实变量和估计变量之间的平均绝对百分比误差（MAPE）。\n",
    "    \n",
    "    参数\n",
    "    ----------\n",
    "    var: numpy 数组\n",
    "        真实变量，形状为 (n,)，其中 n 是观测值的个数。\n",
    "    var_hat: numpy 数组\n",
    "        估计变量，形状为 (n,)，其中 n 是观测值的个数。\n",
    "\n",
    "    返回\n",
    "    -------\n",
    "    mape: 浮点数\n",
    "        MAPE 的值。\n",
    "    \"\"\"\n",
    "    \n",
    "    return np.sum(np.abs(var - var_hat) / var) / var.shape[0] # 根据公式计算 MAPE\n",
    "\n",
    "def compute_rmse(var, var_hat):\n",
    "    \"\"\"这个函数计算真实变量和估计变量之间的均方根误差（RMSE）。\n",
    "    \n",
    "    参数\n",
    "    ----------\n",
    "    var: numpy 数组\n",
    "        真实变量，形状为 (n,)，其中 n 是观测值的个数。\n",
    "    var_hat: numpy 数组\n",
    "        估计变量，形状为 (n,)，其中 n 是观测值的个数。\n",
    "\n",
    "    返回\n",
    "    -------\n",
    "    rmse: 浮点数\n",
    "        RMSE 的值。\n",
    "    \"\"\"\n",
    "    \n",
    "    return  np.sqrt(np.sum((var - var_hat) ** 2) / var.shape[0]) # 根据公式计算 RMSE"
   ]
  },
  {
   "cell_type": "markdown",
   "id": "c19b3b53-a129-4111-a672-9abcec16e995",
   "metadata": {},
   "source": [
    "#### 定义TRMF_forecast: 这个函数是用来预测未来几步的值的，它用 TRMF 算法来填补和预测矩阵，并且用一个进度条来显示进度，还打印出了预测的 MAPE 和 RMSE"
   ]
  },
  {
   "cell_type": "code",
   "execution_count": 33,
   "id": "4d679166-883e-4a8b-8762-4dff3d356e31",
   "metadata": {},
   "outputs": [],
   "source": [
    "def TRMF_forecast(dense_mat, sparse_mat, init_hyper, pred_step, multi_step, rank, time_lags, maxiter):\n",
    "    \"\"\"这个函数用 TRMF 算法来预测未来几步的值，并且用一个进度条来显示进度，还打印出了预测的 MAPE 和 RMSE。\n",
    "    \n",
    "    参数\n",
    "    ----------\n",
    "    dense_mat: numpy 数组\n",
    "        完整的矩阵，形状为 (dim1, T)，其中 dim1 是行数，T 是总列数。\n",
    "    sparse_mat: numpy 数组\n",
    "        需要填补的稀疏矩阵，形状为 (dim1, T)，其中 dim1 是行数，T 是总列数。\n",
    "    init_hyper: 字典\n",
    "        初始化超参数，包括：\n",
    "            - lambda_w: 浮点数，W 的正则化参数。\n",
    "            - lambda_x: 浮点数，X 的正则化参数。\n",
    "            - lambda_theta: 浮点数，theta 的正则化参数。\n",
    "            - eta: 浮点数，梯度下降法的步长。\n",
    "    pred_step: 整数\n",
    "        需要预测的总步数。\n",
    "    multi_step: 整数\n",
    "        每次预测的步数。\n",
    "    rank: 整数\n",
    "        隐变量的维度。\n",
    "    time_lags: numpy 数组\n",
    "        滞后期向量，形状为 (d,)，其中 d 是滞后期的个数。\n",
    "    maxiter: 整数\n",
    "        最大迭代次数。\n",
    "\n",
    "    返回\n",
    "    -------\n",
    "    mat_hat: numpy 数组\n",
    "        填补和预测后的矩阵，形状为 (dim1, max_count * multi_step)，其中 dim1 是行数，max_count 是需要预测的次数，multi_step 是每次预测的步数。\n",
    "        \n",
    "\"\"\"\n",
    "    \n",
    "    dim1, T = dense_mat.shape # 获取完整矩阵的形状\n",
    "    d = time_lags.shape[0] # 获取滞后期的个数\n",
    "    start_time = T - pred_step # 设置开始预测的时间点为总列数减去需要预测的总步数\n",
    "    max_count = int(np.ceil(pred_step / multi_step)) # 设置需要预测的次数为需要预测的总步数除以每次预测的步数向上取整\n",
    "    mat_hat = np.zeros((dim1, max_count * multi_step)) # 初始化一个零矩阵，用来存储填补和预测后的矩阵\n",
    "    f = IntProgress(min = 0, max = max_count) # 实例化一个进度条\n",
    "    display(f) # 显示进度条\n",
    "    for t in range(max_count): # 循环需要预测的次数\n",
    "        if t == 0: # 如果是第一次预测\n",
    "            init_para = {\"W\": 0.1 * np.random.randn(dim1, rank), \n",
    "                         \"X\": 0.1 * np.random.randn(start_time, rank),\n",
    "                         \"theta\": 0.1 * np.random.randn(d, rank)} # 随机初始化参数 W，X 和 theta\n",
    "            mat, W, X_new, theta = TRMF(dense_mat[:, 0 : start_time], sparse_mat[:, 0 : start_time], \n",
    "                                        init_para, init_hyper, time_lags, maxiter) # 用 TRMF 算法来填补和预测矩阵，以及更新参数\n",
    "        else: # 如果不是第一次预测\n",
    "            init_para = {\"W\": W, \"X\": X_new, \"theta\": theta} # 用上一次的参数 W，X 和 theta 来初始化\n",
    "            mat, W, X_new, theta = TRMF_partial(dense_mat[:, 0 : start_time + t * multi_step], \n",
    "                                                sparse_mat[:, 0 : start_time + t * multi_step], \n",
    "                                                init_para, init_hyper, time_lags, maxiter) # 用 TRMF_partial 算法来填补和预测矩阵，以及更新参数\n",
    "        mat_hat[:, t * multi_step : (t + 1) * multi_step] = mat[:, - multi_step :] # 将预测的矩阵放到 mat_hat 中\n",
    "        f.value = t # 更新进度条的值\n",
    "    small_dense_mat = dense_mat[:, start_time : T] # 获取完整矩阵中需要预测的部分\n",
    "    pos = np.where(small_dense_mat != 0) # 找出需要预测的部分中非零元素的位置\n",
    "    print('Prediction MAPE: {:.6}'.format(compute_mape(small_dense_mat[pos], mat_hat[pos]))) # 计算并打印预测的 MAPE\n",
    "    print('Prediction RMSE: {:.6}'.format(compute_rmse(small_dense_mat[pos], mat_hat[pos]))) # 计算并打印预测的 RMSE\n",
    "    print() # 打印一个空行\n",
    "    return mat_hat # 返回填补和预测后的矩阵"
   ]
  },
  {
   "cell_type": "markdown",
   "id": "e234db8b-8f9a-4e8c-b9ea-eac589203dd7",
   "metadata": {},
   "source": [
    "在训练时，你可以直接从刚刚定义好的列表中取出相应的数据"
   ]
  },
  {
   "cell_type": "code",
   "execution_count": 25,
   "id": "5928312d-bb88-45c1-a5e5-175a3e2f38df",
   "metadata": {},
   "outputs": [
    {
     "name": "stdout",
     "output_type": "stream",
     "text": [
      "2022-04-01    0.925873\n",
      "2022-04-02         NaN\n",
      "2022-04-03         NaN\n",
      "2022-04-04    1.000000\n",
      "2022-04-05    0.933984\n",
      "                ...   \n",
      "2022-07-02         NaN\n",
      "2022-07-03         NaN\n",
      "2022-07-04         NaN\n",
      "2022-07-05    0.456561\n",
      "2022-07-06    0.451666\n",
      "Freq: D, Name: Close, Length: 97, dtype: float64\n",
      "2022-04-01    0.925873\n",
      "2022-04-02         NaN\n",
      "2022-04-03         NaN\n",
      "2022-04-04    1.000000\n",
      "2022-04-05    0.933984\n",
      "                ...   \n",
      "2022-09-29    0.584941\n",
      "2022-09-30    0.574127\n",
      "2022-10-01         NaN\n",
      "2022-10-02         NaN\n",
      "2022-10-03    0.490647\n",
      "Freq: D, Name: Close, Length: 186, dtype: float64\n",
      "2022-04-01    0.925873\n",
      "2022-04-02         NaN\n",
      "2022-04-03         NaN\n",
      "2022-04-04    1.000000\n",
      "2022-04-05    0.933984\n",
      "                ...   \n",
      "2022-12-26         NaN\n",
      "2022-12-27    0.003653\n",
      "2022-12-28    0.016842\n",
      "2022-12-29    0.050124\n",
      "2022-12-30    0.055093\n",
      "Freq: D, Name: Close, Length: 274, dtype: float64\n"
     ]
    }
   ],
   "source": [
    "# 创建一个空列表，用来存储每次划分的评估指标\n",
    "metrics = []\n",
    "\n",
    "# 遍历列表中的每个字典\n",
    "for data_split in data_splits:\n",
    "    # 从字典中取出训练集和测试集的特征和目标值，并赋值给相应的变量\n",
    "    train_features = data_split['train_features']\n",
    "    test_features = data_split['test_features']\n",
    "    train_target = data_split['train_target']\n",
    "    test_target = data_split['test_target']\n",
    "    \n",
    "    # 生成一个完整的日期序列\n",
    "    date_range1 = pd.date_range(start=train_features.index.min(), end=train_features.index.max(), freq='D')\n",
    "    date_range2 = pd.date_range(start=train_target.index.min(), end=train_target.index.max(), freq='D')\n",
    "    # 使用reindex方法将日期序列作为新的索引\n",
    "    #令train_features_new和target为新的dataframe\n",
    "    train_features_new = train_features.reindex(index=date_range1)\n",
    "    train_target_new = train_target.reindex(index=date_range2)\n",
    "    \n",
    "    \n",
    "    # 使用trmf函数对训练集进行缺失值补全，并对测试集进行预测，并赋值给train_features和pred_target变量\n",
    "    #train_features, pred_target = trmf_impute_and_predict(train_features, test_features)\n",
    "    \n",
    "    # 使用mean_squared_error函数计算预测值和真实值之间的均方误差，并赋值给mse变量\n",
    "    #mse = mean_squared_error(test_target, pred_target)\n",
    "    \n",
    "    # 将mse的值添加到metrics列表中\n",
    "    #metrics.append(mse)\n",
    "\n",
    "# 打印出每次划分的评估指标\n",
    "#print(\"Metrics for each split:\")\n",
    "#for i, mse in enumerate(metrics):\n",
    "#    print(f\"Split {i+1}: MSE = {mse:.4f}\")"
   ]
  },
  {
   "cell_type": "code",
   "execution_count": 16,
   "id": "f0055fd9-24d5-4b9f-ae77-b81d30a22be3",
   "metadata": {},
   "outputs": [
    {
     "name": "stdout",
     "output_type": "stream",
     "text": [
      "Iter: 100\n",
      "Imputation MAPE: 3.94201\n",
      "Imputation RMSE: 0.359825\n",
      "\n",
      "Iter: 200\n",
      "Imputation MAPE: 3.94201\n",
      "Imputation RMSE: 0.359825\n",
      "\n",
      "Iter: 300\n",
      "Imputation MAPE: 3.94201\n",
      "Imputation RMSE: 0.359825\n",
      "\n",
      "Iter: 400\n",
      "Imputation MAPE: 3.94201\n",
      "Imputation RMSE: 0.359825\n",
      "\n",
      "Iter: 500\n",
      "Imputation MAPE: 3.94201\n",
      "Imputation RMSE: 0.359825\n",
      "\n",
      "Iter: 600\n",
      "Imputation MAPE: 3.94201\n",
      "Imputation RMSE: 0.359825\n",
      "\n",
      "Iter: 700\n",
      "Imputation MAPE: 3.94201\n",
      "Imputation RMSE: 0.359825\n",
      "\n",
      "Iter: 800\n",
      "Imputation MAPE: 3.94201\n",
      "Imputation RMSE: 0.359825\n",
      "\n",
      "Iter: 900\n",
      "Imputation MAPE: 3.94201\n",
      "Imputation RMSE: 0.359825\n",
      "\n",
      "Iter: 1000\n",
      "Imputation MAPE: 3.94201\n",
      "Imputation RMSE: 0.359825\n",
      "\n",
      "Imputation MAPE: 3.94201\n",
      "Imputation RMSE: 0.359825\n"
     ]
    }
   ],
   "source": [
    "# Generate a random data set of 250x5\n",
    "dense_mat = np.random.rand(250, 5)\n",
    "\n",
    "# Generate a sparse matrix with some missing values\n",
    "sparse_mat = np.ma.masked_where(np.random.rand(250, 5) < 0.2, dense_mat).filled(0)\n",
    "\n",
    "# Define some hyperparameters\n",
    "rank = 5 # The rank of matrix factorization\n",
    "lambda_w = 10 # The regularization coefficient for W\n",
    "lambda_x = 10 # The regularization coefficient for X\n",
    "lambda_theta = 10 # The regularization coefficient for theta\n",
    "eta = 0.01 # The smoothing coefficient for X\n",
    "time_lags = np.array([1, 2, 3, 4, 5]) # The time lags for AR model\n",
    "maxiter = 1000 # The maximum number of iterations\n",
    "\n",
    "# Initialize W, X and theta\n",
    "W = np.random.rand(250, rank)\n",
    "X = np.random.rand(5, rank)\n",
    "theta = np.random.rand(len(time_lags), rank)\n",
    "\n",
    "# Put the initial parameters and hyperparameters into dictionaries\n",
    "init_para = {\"W\": W, \"X\": X, \"theta\": theta}\n",
    "init_hyper = {\"lambda_w\": lambda_w, \"lambda_x\": lambda_x, \"lambda_theta\": lambda_theta, \"eta\": eta}\n",
    "\n",
    "# Call the TRMF function\n",
    "mat_hat = TRMF(dense_mat, sparse_mat, init_para, init_hyper, time_lags, maxiter)\n",
    "\n",
    "# Evaluate the imputation error\n",
    "pos_test = np.where((dense_mat != 0) & (sparse_mat == 0))\n",
    "mape = np.sum(np.abs(dense_mat[pos_test] - mat_hat[pos_test]) \n",
    "              / dense_mat[pos_test]) / dense_mat[pos_test].shape[0]\n",
    "rmse = np.sqrt(np.sum((dense_mat[pos_test] - mat_hat[pos_test]) ** 2)/dense_mat[pos_test].shape[0])\n",
    "\n",
    "print('Imputation MAPE: {:.6}'.format(mape))\n",
    "print('Imputation RMSE: {:.6}'.format(rmse))"
   ]
  },
  {
   "cell_type": "code",
   "execution_count": 17,
   "id": "42bd25a9-5b90-461a-b72b-9faee556d6f3",
   "metadata": {},
   "outputs": [
    {
     "data": {
      "text/plain": [
       "array([[0.63638959, 0.39428615, 0.27193085, 0.67515405, 0.37349147],\n",
       "       [0.30846308, 0.50677287, 0.39627066, 0.36608776, 0.46531423],\n",
       "       [0.69965276, 0.72824697, 0.75287094, 0.3282782 , 0.24725763],\n",
       "       ...,\n",
       "       [0.22586772, 0.06782319, 0.47940457, 0.50779351, 0.20980984],\n",
       "       [0.34474344, 0.43448362, 0.47879227, 0.37355082, 0.86029141],\n",
       "       [0.74400658, 0.51066663, 0.66801084, 0.46074488, 0.39913288]])"
      ]
     },
     "execution_count": 17,
     "metadata": {},
     "output_type": "execute_result"
    }
   ],
   "source": [
    "mat_hat"
   ]
  },
  {
   "cell_type": "code",
   "execution_count": null,
   "id": "f7be4f12-58a0-4134-ae3d-e89dff7d5f8d",
   "metadata": {},
   "outputs": [],
   "source": []
  },
  {
   "cell_type": "markdown",
   "id": "af56b841-5647-4357-92f5-0c3ece3df565",
   "metadata": {},
   "source": [
    "# 导入sklearn库中的TimeSeriesSplit类\n",
    "from sklearn.model_selection import TimeSeriesSplit\n",
    "# 导入sklearn库中的mean_squared_error函数\n",
    "from sklearn.metrics import mean_squared_error\n",
    "# 导入trmf库中的TRMF类\n",
    "from trmf import trmf\n",
    "\n",
    "# 定义一些常量，用来表示交叉验证的次数，TRMF的因子数等\n",
    "N_SPLITS = 3\n",
    "N_COMPONENTS = 10\n",
    "\n",
    "# 定义一个函数，用来对时间序列数据进行预处理，包括重索引，归一化，重塑等\n",
    "def preprocess_data(data, index):\n",
    "    \"\"\"\n",
    "    Preprocess the time series data.\n",
    "\n",
    "    Parameters:\n",
    "    data: a pandas dataframe containing the time series data\n",
    "    index: a numpy array containing the train or test index\n",
    "\n",
    "    Returns:\n",
    "    a numpy array containing the preprocessed data\n",
    "    \"\"\"\n",
    "    # 提取出对应索引的数据，并赋值给features变量\n",
    "    features = data.loc[data.index[index]]\n",
    "    \n",
    "    # 创建一个完整的时间索引，从第一个观测值到最后一个观测值\n",
    "    full_index = pd.date_range(start=features.index[0], end=features.index[-1], freq='D')\n",
    "\n",
    "    # 使用reindex方法对数据进行重索引，缺失值设为NaN\n",
    "    features = features.reindex(full_index)\n",
    "    \n",
    "    # 将数据转换为numpy数组，并重塑为LSTM所需的三维格式，即[样本数，时间步数，特征数]\n",
    "    features = features.values.reshape(features.shape[0], 1, features.shape[1])\n",
    "    \n",
    "    # 返回预处理后的数据\n",
    "    return features\n",
    "\n",
    "# 定义一个函数，用来对时间序列数据进行TRMF补全缺失值和预测\n",
    "def trmf_impute_and_predict(train_features, test_features):\n",
    "    \"\"\"\n",
    "    Impute the missing values and predict the future values using TRMF.\n",
    "\n",
    "    Parameters:\n",
    "    train_features: a numpy array containing the train features\n",
    "    test_features: a numpy array containing the test features\n",
    "\n",
    "    Returns:\n",
    "    a tuple containing the imputed train features and the predicted test target\n",
    "    \"\"\"\n",
    "    # 创建一个TRMF对象，指定相关的参数，比如因子数，正则化系数，时间窗口等\n",
    "    model = trmf(n_components=N_COMPONENTS, lambda_f=1e-3, lambda_x=1e-3, lambda_w=1e-3, eta=0.01, n_iter=100)\n",
    "    \n",
    "    # 使用TRMF对象的fit方法对训练集进行拟合，并返回一个包含分解后的矩阵和预测值的字典\n",
    "    result = model.fit(train_features)\n",
    "    \n",
    "    # 使用TRMF对象的predict方法对测试集进行预测，并返回一个包含预测值的数组\n",
    "    pred_target = model.predict(test_features)\n",
    "    \n",
    "    # 使用TRMF对象的impute方法对训练集进行缺失值填充，并返回一个包含填充后的矩阵的数组\n",
    "    train_features = model.impute(train_features)\n",
    "    \n",
    "    # 返回补全和预测后的数据\n",
    "    return train_features, pred_target"
   ]
  },
  {
   "cell_type": "code",
   "execution_count": 19,
   "id": "39e52813-ecef-4457-9e3a-c3d46931d54d",
   "metadata": {},
   "outputs": [
    {
     "ename": "TypeError",
     "evalue": "trmf.__init__() got an unexpected keyword argument 'n_components'",
     "output_type": "error",
     "traceback": [
      "\u001b[1;31m---------------------------------------------------------------------------\u001b[0m",
      "\u001b[1;31mTypeError\u001b[0m                                 Traceback (most recent call last)",
      "Cell \u001b[1;32mIn[19], line 11\u001b[0m\n\u001b[0;32m      8\u001b[0m test_target \u001b[38;5;241m=\u001b[39m df_normalized[\u001b[38;5;124m'\u001b[39m\u001b[38;5;124mClose\u001b[39m\u001b[38;5;124m'\u001b[39m]\u001b[38;5;241m.\u001b[39mloc[df_normalized\u001b[38;5;241m.\u001b[39mindex[test_index]]\n\u001b[0;32m     10\u001b[0m \u001b[38;5;66;03m# 使用trmf_impute_and_predict函数对训练集进行缺失值补全，并对测试集进行预测，并赋值给train_features和pred_target变量\u001b[39;00m\n\u001b[1;32m---> 11\u001b[0m train_features, pred_target \u001b[38;5;241m=\u001b[39m \u001b[43mtrmf_impute_and_predict\u001b[49m\u001b[43m(\u001b[49m\u001b[43mtrain_features\u001b[49m\u001b[43m,\u001b[49m\u001b[43m \u001b[49m\u001b[43mtest_features\u001b[49m\u001b[43m)\u001b[49m\n\u001b[0;32m     13\u001b[0m \u001b[38;5;66;03m# 使用mean_squared_error函数计算预测值和真实值之间的均方误差，并赋值给mse变量\u001b[39;00m\n\u001b[0;32m     14\u001b[0m mse \u001b[38;5;241m=\u001b[39m mean_squared_error(test_target, pred_target)\n",
      "Cell \u001b[1;32mIn[18], line 52\u001b[0m, in \u001b[0;36mtrmf_impute_and_predict\u001b[1;34m(train_features, test_features)\u001b[0m\n\u001b[0;32m     41\u001b[0m \u001b[38;5;124;03m\"\"\"\u001b[39;00m\n\u001b[0;32m     42\u001b[0m \u001b[38;5;124;03mImpute the missing values and predict the future values using TRMF.\u001b[39;00m\n\u001b[0;32m     43\u001b[0m \n\u001b[1;32m   (...)\u001b[0m\n\u001b[0;32m     49\u001b[0m \u001b[38;5;124;03ma tuple containing the imputed train features and the predicted test target\u001b[39;00m\n\u001b[0;32m     50\u001b[0m \u001b[38;5;124;03m\"\"\"\u001b[39;00m\n\u001b[0;32m     51\u001b[0m \u001b[38;5;66;03m# 创建一个TRMF对象，指定相关的参数，比如因子数，正则化系数，时间窗口等\u001b[39;00m\n\u001b[1;32m---> 52\u001b[0m model \u001b[38;5;241m=\u001b[39m \u001b[43mtrmf\u001b[49m\u001b[43m(\u001b[49m\u001b[43mn_components\u001b[49m\u001b[38;5;241;43m=\u001b[39;49m\u001b[43mN_COMPONENTS\u001b[49m\u001b[43m,\u001b[49m\u001b[43m \u001b[49m\u001b[43mlambda_f\u001b[49m\u001b[38;5;241;43m=\u001b[39;49m\u001b[38;5;241;43m1e-3\u001b[39;49m\u001b[43m,\u001b[49m\u001b[43m \u001b[49m\u001b[43mlambda_x\u001b[49m\u001b[38;5;241;43m=\u001b[39;49m\u001b[38;5;241;43m1e-3\u001b[39;49m\u001b[43m,\u001b[49m\u001b[43m \u001b[49m\u001b[43mlambda_w\u001b[49m\u001b[38;5;241;43m=\u001b[39;49m\u001b[38;5;241;43m1e-3\u001b[39;49m\u001b[43m,\u001b[49m\u001b[43m \u001b[49m\u001b[43meta\u001b[49m\u001b[38;5;241;43m=\u001b[39;49m\u001b[38;5;241;43m0.01\u001b[39;49m\u001b[43m,\u001b[49m\u001b[43m \u001b[49m\u001b[43mn_iter\u001b[49m\u001b[38;5;241;43m=\u001b[39;49m\u001b[38;5;241;43m100\u001b[39;49m\u001b[43m)\u001b[49m\n\u001b[0;32m     54\u001b[0m \u001b[38;5;66;03m# 使用TRMF对象的fit方法对训练集进行拟合，并返回一个包含分解后的矩阵和预测值的字典\u001b[39;00m\n\u001b[0;32m     55\u001b[0m result \u001b[38;5;241m=\u001b[39m model\u001b[38;5;241m.\u001b[39mfit(train_features)\n",
      "\u001b[1;31mTypeError\u001b[0m: trmf.__init__() got an unexpected keyword argument 'n_components'"
     ]
    }
   ],
   "source": [
    "# 创建一个空列表，用来存储每次划分的评估指标\n",
    "metrics = []\n",
    "\n",
    "# 使用time_series_splitter.split方法对数据框normalized_df进行分割，并返回一个迭代器\n",
    "for train_index, test_index in time_series_splitter.split(df_normalized):\n",
    "    # 根据训练索引和测试索引提取出训练集和测试集中的目标列，并赋值给train_target和test_target变量\n",
    "    train_target = df_normalized['Close'].loc[df_normalized.index[train_index]]\n",
    "    test_target = df_normalized['Close'].loc[df_normalized.index[test_index]]\n",
    "    \n",
    "    # 使用trmf_impute_and_predict函数对训练集进行缺失值补全，并对测试集进行预测，并赋值给train_features和pred_target变量\n",
    "    train_features, pred_target = trmf_impute_and_predict(train_features, test_features)\n",
    "    \n",
    "    # 使用mean_squared_error函数计算预测值和真实值之间的均方误差，并赋值给mse变量\n",
    "    mse = mean_squared_error(test_target, pred_target)\n",
    "    \n",
    "    # 将mse的值添加到metrics列表中\n",
    "    metrics.append(mse)\n",
    "\n",
    "# 打印出每次划分的评估指标\n",
    "print(\"Metrics for each split:\")\n",
    "for i, mse in enumerate(metrics):\n",
    "    print(f\"Split {i+1}: MSE = {mse:.4f}\")"
   ]
  },
  {
   "cell_type": "code",
   "execution_count": null,
   "id": "ff695bd7-28e6-423b-9c21-32e7c0da1a52",
   "metadata": {},
   "outputs": [],
   "source": []
  },
  {
   "cell_type": "code",
   "execution_count": null,
   "id": "b6ec5f10-5826-408e-a18a-4d6e827b376e",
   "metadata": {},
   "outputs": [],
   "source": []
  },
  {
   "cell_type": "markdown",
   "id": "a83e07cb",
   "metadata": {},
   "source": [
    "可以观察到有时间不连续的情况，因为有非交易日或者停牌等情况出现，所以对时间索引进行补充，同时对缺失值进行NAN补充"
   ]
  },
  {
   "cell_type": "code",
   "execution_count": null,
   "id": "1eb68766-3052-4304-8cd5-e60ffaa6bc76",
   "metadata": {},
   "outputs": [],
   "source": [
    "# 导入numpy库，并起别名np\n",
    "import numpy as np\n",
    "\n",
    "# 将数据框的索引设置为'Code'列\n",
    "df.set_index('Code', inplace=True)\n",
    "\n",
    "# 使用reindex方法，传入一个新的数组作为索引，这个数组从2020-01-02到2020-01-07，步长为1天\n",
    "df = df.reindex(index = np.arange('2020-01-02', '2020-01-08', dtype='datetime64[D]'))\n",
    "\n",
    "# 使用reset_index方法将索引重置为默认的整数序列\n",
    "df = df.reset_index()"
   ]
  },
  {
   "cell_type": "code",
   "execution_count": null,
   "id": "592cb14f",
   "metadata": {},
   "outputs": [],
   "source": [
    "# 生成一个完整的日期序列\n",
    "date_range = pd.date_range(start=df.index.min(), end=df.index.max(), freq='D')\n",
    "# 使用reindex方法将日期序列作为新的索引\n",
    "#令df_renew为新的dataframe\n",
    "df_new = df_normalized.reindex(index=date_range)"
   ]
  },
  {
   "cell_type": "code",
   "execution_count": null,
   "id": "4da97f20-729e-429c-a04c-d53e64f5cea0",
   "metadata": {},
   "outputs": [],
   "source": []
  },
  {
   "cell_type": "code",
   "execution_count": null,
   "id": "b19e6f3d-c897-4c76-a0f3-5480205315c3",
   "metadata": {},
   "outputs": [],
   "source": []
  },
  {
   "cell_type": "markdown",
   "id": "9b35fc28",
   "metadata": {},
   "source": [
    "使用DataFrame.reindex方法，调整dataframe的索引以适应新的索引。您可以使用pd.date_range函数生成一个完整的日期序列，然后用reindex方法将其作为新的索引。缺失值默认会用NaN填充，也可以指定fill_value参数来自定义填充值。"
   ]
  },
  {
   "cell_type": "markdown",
   "id": "f636d1d9",
   "metadata": {},
   "source": [
    "inversed = scaler.inverse_transform(normalized) # 对归一化后的数据进行反归一化\n",
    "print(inversed) # 打印反归一化后的数据"
   ]
  },
  {
   "cell_type": "code",
   "execution_count": null,
   "id": "1de18ddd",
   "metadata": {},
   "outputs": [],
   "source": []
  },
  {
   "cell_type": "markdown",
   "id": "5ad857b1",
   "metadata": {
    "jp-MarkdownHeadingCollapsed": true,
    "tags": []
   },
   "source": [
    "## TRMF线性预测"
   ]
  },
  {
   "cell_type": "markdown",
   "id": "6a42bf7c",
   "metadata": {},
   "source": [
    "先定义TRMF函数部分"
   ]
  },
  {
   "cell_type": "markdown",
   "id": "186d53f0",
   "metadata": {},
   "source": [
    "### 先来补充缺失值"
   ]
  },
  {
   "cell_type": "code",
   "execution_count": null,
   "id": "8781a687",
   "metadata": {},
   "outputs": [],
   "source": [
    "from trmf import trmf"
   ]
  },
  {
   "cell_type": "code",
   "execution_count": null,
   "id": "5536999c",
   "metadata": {},
   "outputs": [],
   "source": [
    "help(trmf)"
   ]
  },
  {
   "cell_type": "code",
   "execution_count": null,
   "id": "a48ed91a",
   "metadata": {},
   "outputs": [],
   "source": []
  },
  {
   "cell_type": "markdown",
   "id": "8e15d2b6",
   "metadata": {},
   "source": [
    "# LSTM——非线性"
   ]
  },
  {
   "cell_type": "markdown",
   "id": "50ede468",
   "metadata": {},
   "source": [
    "只取出想要的一列——收盘价就ok"
   ]
  },
  {
   "cell_type": "code",
   "execution_count": null,
   "id": "2da4b1bb",
   "metadata": {},
   "outputs": [],
   "source": []
  },
  {
   "cell_type": "code",
   "execution_count": null,
   "id": "d2c30781",
   "metadata": {},
   "outputs": [],
   "source": [
    "price = df[['close']]\n",
    "price"
   ]
  },
  {
   "cell_type": "markdown",
   "id": "d633743d",
   "metadata": {},
   "source": [
    "####划分训练集和测试集"
   ]
  },
  {
   "cell_type": "markdown",
   "id": "0ff4a569",
   "metadata": {},
   "source": [
    "这里选择80%的数据位训练集，20%测试集，也就是说100天的数据，前80天训练，后20天测试"
   ]
  },
  {
   "cell_type": "code",
   "execution_count": null,
   "id": "56c10f2a",
   "metadata": {
    "ExecuteTime": {
     "end_time": "2023-04-26T10:36:25.363892Z",
     "start_time": "2023-04-26T10:36:25.296073Z"
    }
   },
   "outputs": [],
   "source": [
    "def split_data(stockdata,lookback):\n",
    "    data_raw = stockdata.to_numpy()\n",
    "    data_size = len(data_raw) - lookback # 计算data列表的大小\n",
    "    num_features = data_raw.shape[1] # 计算每个元素的特征数量\n",
    "    data = np.zeros((data_size, lookback, num_features)) # 创建一个空的numpy数组\n",
    "    \n",
    "    for index in range(data_size): \n",
    "        data[index] = data_raw[index:index+lookback] # 用索引的方式赋值，每个样本包含从index到index+lookback的时间步\n",
    "        \n",
    "    test_set_size = int(np.round(0.2 * data.shape[0]))# 计算测试集的大小，为数据总量的20%\n",
    "    train_set_size = data.shape[0] - test_set_size# 计算训练集的大小，为数据总量减去测试集的大小\n",
    "    \n",
    "    x_train = data[:train_set_size,:-1,:]# 提取训练集的输入特征，即除了最后一个时间步的所有时间步\n",
    "    y_train = data[:train_set_size,-1,0:1]# 提取训练集的输出特征，即最后一个时间步的第一列（收盘价）\n",
    "    x_test = data[train_set_size:,:-1,:]# 提取测试集的输入特征，同上\n",
    "    y_test = data[train_set_size:,-1,0:1]# 提取测试集的输出特征，同上\n",
    "    \n",
    "    return [x_train, y_train, x_test, y_test]# 返回分割后的数据"
   ]
  },
  {
   "cell_type": "markdown",
   "id": "c3309cf8",
   "metadata": {},
   "source": [
    "首先，计算出data数组的大小，为data_size，等于原始数据的长度减去lookback。\n",
    "然后，计算出每个元素的特征数量，为num_features，等于原始数据的列数。\n",
    "接着，用numpy.zeros方法创建一个空的numpy数组，形状为(data_size, lookback, num_features)。这样就可以预先分配好内存空间，避免动态扩展。\n",
    "然后，用一个for循环遍历原始数据中的每个元素，除了最后lookback个元素。\n",
    "在每次循环中，用索引的方式将当前元素和它后面的lookback-1个元素组成一个子数组，赋值给data数组中的相应位置。这样就可以避免用append方法添加元素，提高效率。\n",
    "然后，按照训练集和测试集的比例切分data数组为四个部分：x_train, y_train, x_test, y_test。\n",
    "最后，返回这四个部分。"
   ]
  },
  {
   "cell_type": "markdown",
   "id": "1ef8a7a1",
   "metadata": {},
   "source": [
    "# 模型构建-LSTM"
   ]
  },
  {
   "cell_type": "code",
   "execution_count": null,
   "id": "7afe8241",
   "metadata": {
    "ExecuteTime": {
     "end_time": "2023-04-26T10:36:25.458639Z",
     "start_time": "2023-04-26T10:36:25.310036Z"
    }
   },
   "outputs": [],
   "source": [
    "lookback = 7\n",
    "x_train, y_train, x_test, y_test = split_data(df_normalized,lookback)\n",
    "print('x_train.shape = ' , x_train.shape)\n",
    "print('y_train.shape = ' , y_train.shape)\n",
    "print('x_test.shape = ' , x_test.shape)\n",
    "print('y_test.shape = ' , y_test.shape)"
   ]
  },
  {
   "cell_type": "markdown",
   "id": "cf90c9ba",
   "metadata": {},
   "source": [
    "x_test返回一个三维的数组，它的形状是(test_set_size, lookback, num_features)。这三个值分别表示：\n",
    "\n",
    " test_set_size是测试集的大小，也就是data数组的20%。\n",
    " lookback是每个子数组的长度，也就是用多少个历史数据来预测未来的数据。例如lookback=2，则是用前2天的数据来预测第三天的数据。\n",
    " num_features是每个元素的特征数量，比如开盘价，收盘价等。\n",
    "\n",
    "\n",
    "y_test返回的是一个二维的数组，形状为(test_set_size, 1)。1是指每个子数组的最后一个元素的第一个值，收盘价。\n",
    "y_test是测试集的输出标签，包含了每个子数组的最后一个元素的第一个值（收盘价）。这是我们要用测试集来比较预测结果和真实值的数据。"
   ]
  },
  {
   "cell_type": "markdown",
   "id": "d4baa584",
   "metadata": {},
   "source": [
    "## 非线性部分——LSTM预测"
   ]
  },
  {
   "cell_type": "markdown",
   "id": "2caf76a7",
   "metadata": {},
   "source": [
    "基于pytorch"
   ]
  },
  {
   "cell_type": "code",
   "execution_count": null,
   "id": "2cdf6dea",
   "metadata": {
    "ExecuteTime": {
     "end_time": "2023-04-26T10:36:29.433661Z",
     "start_time": "2023-04-26T10:36:25.323999Z"
    }
   },
   "outputs": [],
   "source": [
    "# 导入torch和torch.nn模块，这些模块提供了PyTorch的基本功能和神经网络相关的类和函数\n",
    "import torch\n",
    "import torch.nn as nn"
   ]
  },
  {
   "cell_type": "markdown",
   "id": "62447467",
   "metadata": {},
   "source": [
    "将x_train, x_test, y_train, y_test这些numpy数组转换为torch张量，这样才能用于PyTorch的计算"
   ]
  },
  {
   "cell_type": "code",
   "execution_count": null,
   "id": "e347a9be",
   "metadata": {
    "ExecuteTime": {
     "end_time": "2023-04-26T10:36:29.479537Z",
     "start_time": "2023-04-26T10:36:29.440641Z"
    }
   },
   "outputs": [],
   "source": [
    "x_train = torch.from_numpy(x_train).type(torch.Tensor)\n",
    "x_test = torch.from_numpy(x_test).type(torch.Tensor)\n",
    "y_train_lstm = torch.from_numpy(y_train).type(torch.Tensor)\n",
    "y_test_lstm = torch.from_numpy(y_test).type(torch.Tensor)\n",
    "y_train_gru = torch.from_numpy(y_train).type(torch.Tensor)\n",
    "y_test_gru = torch.from_numpy(y_test).type(torch.Tensor)"
   ]
  },
  {
   "cell_type": "markdown",
   "id": "f3db5132",
   "metadata": {},
   "source": [
    "定义输入维度，隐藏层维度，层数和输出维度，这些参数决定了LSTM模型的结构和大小"
   ]
  },
  {
   "cell_type": "code",
   "execution_count": null,
   "id": "3267d2c3",
   "metadata": {
    "ExecuteTime": {
     "end_time": "2023-04-26T10:36:29.496491Z",
     "start_time": "2023-04-26T10:36:29.481530Z"
    }
   },
   "outputs": [],
   "source": [
    "input_dim = 1\n",
    "hidden_dim = 64\n",
    "num_layers = 2\n",
    "output_dim = 1"
   ]
  },
  {
   "cell_type": "markdown",
   "id": "f3c41aca",
   "metadata": {},
   "source": [
    "定义训练轮数，这个参数决定了模型训练的次数"
   ]
  },
  {
   "cell_type": "code",
   "execution_count": null,
   "id": "eba472d9",
   "metadata": {
    "ExecuteTime": {
     "end_time": "2023-04-26T10:36:29.530399Z",
     "start_time": "2023-04-26T10:36:29.499484Z"
    }
   },
   "outputs": [],
   "source": [
    "num_epochs = 100"
   ]
  },
  {
   "cell_type": "code",
   "execution_count": null,
   "id": "e2fde416",
   "metadata": {
    "ExecuteTime": {
     "end_time": "2023-04-26T10:36:29.541371Z",
     "start_time": "2023-04-26T10:36:29.514444Z"
    }
   },
   "outputs": [],
   "source": [
    "# 定义一个LSTM模型的类，继承自torch.nn.Module类，这是PyTorch中定义自定义模型的标准方式\n",
    "class LSTM(nn.Module):\n",
    "    # 定义初始化函数，接收输入维度，隐藏层维度，层数和输出维度作为参数，并初始化模型的组件\n",
    "    def __init__(self, input_dim, hidden_dim, num_layers, output_dim):\n",
    "        # 调用父类的初始化函数，这是PyTorch中定义自定义模型的惯例\n",
    "        super(LSTM, self).__init__()\n",
    "        # 将隐藏层维度和层数作为类属性保存，方便后续使用\n",
    "        self.hidden_dim = hidden_dim\n",
    "        self.num_layers = num_layers\n",
    "        \n",
    "        # 定义一个LSTM层，接收输入维度，隐藏层维度，层数和batch_first作为参数\n",
    "        # batch_first表示输入数据的第一维是batch_size，这是PyTorch中处理数据的常用方式\n",
    "        self.lstm = nn.LSTM(input_dim, hidden_dim, num_layers, batch_first=True)\n",
    "        # 定义一个全连接层，接收隐藏层维度和输出维度作为参数，将LSTM层的输出转换为最终的预测值\n",
    "        self.fc = nn.Linear(hidden_dim, output_dim)\n",
    "\n",
    "    # 定义前向传播函数，接收输入数据x作为参数，并返回输出数据out作为结果\n",
    "    def forward(self, x):\n",
    "        # 初始化LSTM层的初始隐藏状态h0和初始单元状态c0，它们的形状都是(层数, batch_size, 隐藏层维度)\n",
    "        # 使用torch.zeros()函数创建全零张量，并使用requires_grad_()函数设置梯度计算为True，这是PyTorch中进行自动求导的要求\n",
    "        h0 = torch.zeros(self.num_layers, x.size(0), self.hidden_dim).requires_grad_()\n",
    "        c0 = torch.zeros(self.num_layers, x.size(0), self.hidden_dim).requires_grad_()\n",
    "        # 将输入数据x，初始隐藏状态h0和初始单元状态c0传入LSTM层，得到输出数据out和最终的隐藏状态hn和单元状态cn\n",
    "        out, (hn, cn) = self.lstm(x, (h0.detach(), c0.detach()))\n",
    "        # 将输出数据out的最后一个时间步的数据传入全连接层，得到最终的预测值out\n",
    "        out = self.fc(out[:, -1, :]) \n",
    "        # 返回预测值out作为结果\n",
    "        return out"
   ]
  },
  {
   "cell_type": "code",
   "execution_count": null,
   "id": "afb3c1c4",
   "metadata": {
    "ExecuteTime": {
     "end_time": "2023-04-26T10:36:29.644097Z",
     "start_time": "2023-04-26T10:36:29.544362Z"
    }
   },
   "outputs": [],
   "source": [
    "# 创建一个LSTM模型对象，使用之前定义的输入维度，隐藏层维度，层数和输出维度\n",
    "model = LSTM(input_dim=input_dim, hidden_dim=hidden_dim, output_dim=output_dim, num_layers=num_layers)"
   ]
  },
  {
   "cell_type": "code",
   "execution_count": null,
   "id": "b6425dd0",
   "metadata": {
    "ExecuteTime": {
     "end_time": "2023-04-26T10:36:29.661051Z",
     "start_time": "2023-04-26T10:36:29.648094Z"
    }
   },
   "outputs": [],
   "source": [
    "# 定义一个均方误差损失函数，这是一个常用的回归问题的损失函数\n",
    "criterion = torch.nn.MSELoss()\n",
    "# 定义一个Adam优化器，这是一个常用的梯度下降算法的变种，接收模型的参数和学习率作为参数\n",
    "optimiser = torch.optim.Adam(model.parameters(), lr=0.01)"
   ]
  },
  {
   "cell_type": "code",
   "execution_count": null,
   "id": "ae710f0a",
   "metadata": {
    "ExecuteTime": {
     "end_time": "2023-04-26T10:36:30.611508Z",
     "start_time": "2023-04-26T10:36:29.667033Z"
    }
   },
   "outputs": [],
   "source": [
    "# 导入time模块，这个模块提供了时间相关的函数\n",
    "import time\n",
    "\n",
    "# 创建一个numpy数组hist，用于保存每个epoch的训练误差\n",
    "hist = np.zeros(num_epochs)\n",
    "# 记录训练开始的时间，使用time.time()函数获取当前的时间戳\n",
    "start_time = time.time()\n",
    "# 创建一个空列表lstm，用于保存LSTM模型的输出（这个列表没有被使用，可以删除）\n",
    "lstm = []\n",
    "\n",
    "# 使用一个for循环，从0到num_epochs-1，进行num_epochs轮的训练\n",
    "for t in range(num_epochs):\n",
    "    # 使用模型对训练数据x_train进行前向传播，得到训练预测值y_train_pred\n",
    "    y_train_pred = model(x_train)\n",
    "\n",
    "    # 使用损失函数对训练预测值y_train_pred和训练真实值y_train_lstm进行计算，得到训练误差loss\n",
    "    loss = criterion(y_train_pred, y_train_lstm)\n",
    "    # 打印当前的epoch和训练误差，使用loss.item()函数将张量转换为标量\n",
    "    print(\"Epoch \", t, \"MSE: \", loss.item())\n",
    "    # 将训练误差保存到hist数组中，方便后续可视化\n",
    "    hist[t] = loss.item()\n",
    "\n",
    "    # 使用优化器对模型的参数进行梯度清零，这是PyTorch中进行梯度更新的必要步骤\n",
    "    optimiser.zero_grad()\n",
    "    # 使用反向传播函数对训练误差进行求导，得到模型参数的梯度\n",
    "    loss.backward()\n",
    "    # 使用优化器对模型的参数进行梯度更新，实现梯度下降算法\n",
    "    optimiser.step()\n",
    "    \n",
    "# 记录训练结束的时间，使用time.time()函数获取当前的时间戳，并与训练开始的时间相减，得到训练所花费的时间\n",
    "training_time = time.time()-start_time\n",
    "# 打印训练所花费的时间\n",
    "print(\"Training time: {}\".format(training_time))"
   ]
  },
  {
   "cell_type": "code",
   "execution_count": null,
   "id": "1a4e6fb0",
   "metadata": {},
   "outputs": [],
   "source": [
    "# 导入pandas模块，这个模块提供了数据分析和处理的功能\n",
    "import pandas as pd\n",
    "\n",
    "# 使用scaler.inverse_transform()函数将训练预测值y_train_pred从标准化后的数据转换回原始数据，并使用pandas.DataFrame()函数将其转换为数据框格式，方便后续可视化\n",
    "predict = pd.DataFrame(scaler.inverse_transform(y_train_pred.detach().numpy()))\n",
    "# 使用scaler.inverse_transform()函数将训练真实值y_train_lstm从标准化后的数据转换回原始数据，并使用pandas.DataFrame()函数将其转换为数据框格式，方便后续可视化\n",
    "original = pd.DataFrame(scaler.inverse_transform(y_train_lstm.detach().numpy()))"
   ]
  },
  {
   "cell_type": "code",
   "execution_count": null,
   "id": "d570ffd6",
   "metadata": {},
   "outputs": [],
   "source": [
    "predict"
   ]
  },
  {
   "cell_type": "code",
   "execution_count": null,
   "id": "41b76f16",
   "metadata": {},
   "outputs": [],
   "source": [
    "original"
   ]
  },
  {
   "cell_type": "code",
   "execution_count": null,
   "id": "4ebe4355",
   "metadata": {},
   "outputs": [],
   "source": [
    "import seaborn as sns\n",
    "sns.set_style(\"darkgrid\")    \n",
    "\n",
    "fig = plt.figure()\n",
    "fig.subplots_adjust(hspace=0.2, wspace=0.2)\n",
    "\n",
    "plt.subplot(1, 2, 1)\n",
    "ax = sns.lineplot(x = original.index, y = original[0], label=\"Data\", color='royalblue')\n",
    "ax = sns.lineplot(x = predict.index, y = predict[0], label=\"Training Prediction (LSTM)\", color='tomato')\n",
    "ax.set_title('Stock price', size = 14, fontweight='bold')\n",
    "ax.set_xlabel(\"Days\", size = 14)\n",
    "ax.set_ylabel(\"Cost (USD)\", size = 14)\n",
    "ax.set_xticklabels('', size=10)\n",
    "\n",
    "\n",
    "plt.subplot(1, 2, 2)\n",
    "ax = sns.lineplot(data=hist, color='royalblue')\n",
    "ax.set_xlabel(\"Epoch\", size = 14)\n",
    "ax.set_ylabel(\"Loss\", size = 14)\n",
    "ax.set_title(\"Training Loss\", size = 14, fontweight='bold')\n",
    "fig.set_figheight(6)\n",
    "fig.set_figwidth(16)"
   ]
  },
  {
   "cell_type": "code",
   "execution_count": null,
   "id": "879b2939",
   "metadata": {},
   "outputs": [],
   "source": [
    "x_test[-1]"
   ]
  },
  {
   "cell_type": "code",
   "execution_count": null,
   "id": "c05d868c",
   "metadata": {},
   "outputs": [],
   "source": [
    "import math, time\n",
    "from sklearn.metrics import mean_squared_error\n",
    "\n",
    "# make predictions\n",
    "y_test_pred = model(x_test)\n",
    "\n",
    "# invert predictions\n",
    "y_train_pred = scaler.inverse_transform(y_train_pred.detach().numpy())\n",
    "y_train = scaler.inverse_transform(y_train_lstm.detach().numpy())\n",
    "y_test_pred = scaler.inverse_transform(y_test_pred.detach().numpy())\n",
    "y_test = scaler.inverse_transform(y_test_lstm.detach().numpy())\n",
    "\n",
    "# calculate root mean squared error\n",
    "trainScore = math.sqrt(mean_squared_error(y_train[:,0], y_train_pred[:,0]))\n",
    "print('Train Score: %.2f RMSE' % (trainScore))\n",
    "testScore = math.sqrt(mean_squared_error(y_test[:,0], y_test_pred[:,0]))\n",
    "print('Test Score: %.2f RMSE' % (testScore))\n",
    "lstm.append(trainScore)\n",
    "lstm.append(testScore)\n",
    "lstm.append(training_time)"
   ]
  },
  {
   "cell_type": "code",
   "execution_count": null,
   "id": "c2d61860",
   "metadata": {},
   "outputs": [],
   "source": [
    "# shift train predictions for plotting\n",
    "trainPredictPlot = np.empty_like(price)\n",
    "trainPredictPlot[:, :] = np.nan\n",
    "trainPredictPlot[lookback:len(y_train_pred)+lookback, :] = y_train_pred\n",
    "\n",
    "# shift test predictions for plotting\n",
    "testPredictPlot = np.empty_like(price)\n",
    "testPredictPlot[:, :] = np.nan\n",
    "testPredictPlot[len(y_train_pred)+lookback-1:len(price)-1, :] = y_test_pred\n",
    "\n",
    "original = scaler.inverse_transform(price['收盘'].values.reshape(-1,1))\n",
    "\n",
    "predictions = np.append(trainPredictPlot, testPredictPlot, axis=1)\n",
    "predictions = np.append(predictions, original, axis=1)\n",
    "result = pd.DataFrame(predictions)"
   ]
  },
  {
   "cell_type": "code",
   "execution_count": null,
   "id": "d2065973",
   "metadata": {},
   "outputs": [],
   "source": [
    "predictions"
   ]
  },
  {
   "cell_type": "code",
   "execution_count": null,
   "id": "e92ad630",
   "metadata": {},
   "outputs": [],
   "source": [
    "result"
   ]
  },
  {
   "cell_type": "code",
   "execution_count": null,
   "id": "5af0cbbf",
   "metadata": {},
   "outputs": [],
   "source": []
  },
  {
   "cell_type": "code",
   "execution_count": null,
   "id": "3c72bd45",
   "metadata": {},
   "outputs": [],
   "source": [
    "import plotly.express as px\n",
    "import plotly.graph_objects as go\n",
    "\n",
    "fig = go.Figure()\n",
    "fig.add_trace(go.Scatter(go.Scatter(x=result.index, y=result[0],\n",
    "                    mode='lines',\n",
    "                    name='Train prediction')))\n",
    "fig.add_trace(go.Scatter(x=result.index, y=result[1],\n",
    "                    mode='lines',\n",
    "                    name='Test prediction'))\n",
    "fig.add_trace(go.Scatter(go.Scatter(x=result.index, y=result[2],\n",
    "                    mode='lines',\n",
    "                    name='Actual Value')))\n",
    "fig.update_layout(\n",
    "    xaxis=dict(\n",
    "        showline=True,\n",
    "        showgrid=True,\n",
    "        showticklabels=False,\n",
    "        linecolor='white',\n",
    "        linewidth=2\n",
    "    ),\n",
    "    yaxis=dict(\n",
    "        title_text='Close (USD)',\n",
    "        titlefont=dict(\n",
    "            family='Rockwell',\n",
    "            size=12,\n",
    "            color='white',\n",
    "        ),\n",
    "        showline=True,\n",
    "        showgrid=True,\n",
    "        showticklabels=True,\n",
    "        linecolor='white',\n",
    "        linewidth=2,\n",
    "        ticks='outside',\n",
    "        tickfont=dict(\n",
    "            family='Rockwell',\n",
    "            size=12,\n",
    "            color='white',\n",
    "        ),\n",
    "    ),\n",
    "    showlegend=True,\n",
    "    template = 'plotly_dark'\n",
    "\n",
    ")\n",
    "\n",
    "\n",
    "\n",
    "annotations = []\n",
    "annotations.append(dict(xref='paper', yref='paper', x=0.0, y=1.05,\n",
    "                              xanchor='left', yanchor='bottom',\n",
    "                              text='Results (LSTM)',\n",
    "                              font=dict(family='Rockwell',\n",
    "                                        size=26,\n",
    "                                        color='white'),\n",
    "                              showarrow=False))\n",
    "fig.update_layout(annotations=annotations)\n",
    "\n",
    "fig.show()"
   ]
  },
  {
   "cell_type": "code",
   "execution_count": null,
   "id": "c2fe9944",
   "metadata": {},
   "outputs": [],
   "source": []
  },
  {
   "cell_type": "markdown",
   "id": "81469942",
   "metadata": {},
   "source": [
    "## TRMF"
   ]
  },
  {
   "cell_type": "code",
   "execution_count": null,
   "id": "2b6137bb",
   "metadata": {},
   "outputs": [],
   "source": [
    "df_normalized"
   ]
  },
  {
   "cell_type": "markdown",
   "id": "614b6f58",
   "metadata": {},
   "source": []
  }
 ],
 "metadata": {
  "kernelspec": {
   "display_name": "Python 3 (ipykernel)",
   "language": "python",
   "name": "python3"
  },
  "language_info": {
   "codemirror_mode": {
    "name": "ipython",
    "version": 3
   },
   "file_extension": ".py",
   "mimetype": "text/x-python",
   "name": "python",
   "nbconvert_exporter": "python",
   "pygments_lexer": "ipython3",
   "version": "3.10.10"
  },
  "toc-autonumbering": true,
  "toc-showcode": true,
  "toc-showmarkdowntxt": true,
  "toc-showtags": false,
  "vp": {
   "vp_config_version": "1.0.0",
   "vp_menu_width": 273,
   "vp_note_display": false,
   "vp_note_width": 0,
   "vp_position": {
    "width": 278
   },
   "vp_section_display": true,
   "vp_signature": "VisualPython"
  }
 },
 "nbformat": 4,
 "nbformat_minor": 5
}
